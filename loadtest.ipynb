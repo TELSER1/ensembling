{
 "metadata": {
  "name": ""
 },
 "nbformat": 3,
 "nbformat_minor": 0,
 "worksheets": [
  {
   "cells": [
    {
     "cell_type": "code",
     "collapsed": false,
     "input": [
      "import pandas as pd\n",
      "import numpy as np\n",
      "import pickle\n",
      "from stacking import stacked_regressor\n",
      "from sklearn_pandas import DataFrameMapper\n",
      "from sklearn.linear_model import LinearRegression\n",
      "class rself():\n",
      "    def __init__(self):\n",
      "        return\n",
      "    def fit(self,X,y=None):\n",
      "        return\n",
      "    def transform(self,X,y=None):\n",
      "        a=X.shape[0]\n",
      "        return(np.reshape(X,(a,1)))\n",
      "    def fit_transform(self,X,y=None):\n",
      "        return(X)\n",
      "class rself2():\n",
      "    def __init__(self):\n",
      "        return\n",
      "    def fit(self,X,y=None):\n",
      "        return\n",
      "    def transform(self,X,y=None):\n",
      "        return(X)\n",
      "    def fit_transform(self,X,y=None):\n",
      "        return(X)"
     ],
     "language": "python",
     "metadata": {},
     "outputs": [
      {
       "output_type": "stream",
       "stream": "stderr",
       "text": [
        "/Users/timothyelser/anaconda/lib/python2.7/site-packages/pytz/__init__.py:29: UserWarning: Module argparse was already imported from /Users/timothyelser/anaconda/python.app/Contents/lib/python2.7/argparse.pyc, but /Users/timothyelser/anaconda/lib/python2.7/site-packages is being added to sys.path\n",
        "  from pkg_resources import resource_stream\n"
       ]
      }
     ],
     "prompt_number": 1
    },
    {
     "cell_type": "code",
     "collapsed": false,
     "input": [
      "test_rl=pickle.load(open(\"testsave.pkl\",'rb'))"
     ],
     "language": "python",
     "metadata": {},
     "outputs": [],
     "prompt_number": 2
    },
    {
     "cell_type": "code",
     "collapsed": false,
     "input": [],
     "language": "python",
     "metadata": {},
     "outputs": [
      {
       "metadata": {},
       "output_type": "pyout",
       "prompt_number": 8,
       "text": [
        "array([-3.48364714])"
       ]
      }
     ],
     "prompt_number": 8
    }
   ],
   "metadata": {}
  }
 ]
}